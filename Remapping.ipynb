{
 "cells": [
  {
   "cell_type": "code",
   "execution_count": 1,
   "metadata": {},
   "outputs": [],
   "source": [
    "import pandas as pd\n",
    "import numpy as np\n",
    "import os"
   ]
  },
  {
   "cell_type": "code",
   "execution_count": 26,
   "metadata": {},
   "outputs": [],
   "source": [
    "remapped = [i for i in os.listdir('daynorm')[1:] if i[-6]=='p']\n",
    "source = [i for i in os.listdir('daynorm')[1:] if i[-6]!='p' and i[2]=='_']\n",
    "globalmap_old = pd.read_excel('daynorm/global_daysum.xlsx')\n",
    "globalmap_new = pd.read_csv('daynorm/global_daysum_new.csv')"
   ]
  },
  {
   "cell_type": "code",
   "execution_count": 27,
   "metadata": {},
   "outputs": [
    {
     "data": {
      "text/plain": [
       "[['de_daynormap.xlsx', 'de_daynorm.xlsx'],\n",
       " ['en_daynormap.xlsx', 'en_daynorm.xlsx'],\n",
       " ['es_daynormap.xlsx', 'es_daynorm.xlsx'],\n",
       " ['fr_daynormap.xlsx', 'fr_daynorm.xlsx'],\n",
       " ['it_daynormap.xlsx', 'it_daynorm.xlsx'],\n",
       " ['nl_daynormap.xlsx', 'nl_daynorm.xlsx'],\n",
       " ['pl_daynormap.xlsx', 'pl_daynorm.xlsx'],\n",
       " ['ru_daynormap.xlsx', 'ru_daynorm.xlsx'],\n",
       " ['vi_daynormap.xlsx', 'sv_daynorm.xlsx']]"
      ]
     },
     "execution_count": 27,
     "metadata": {},
     "output_type": "execute_result"
    }
   ],
   "source": [
    "globalmap_old.columns = np.concatenate([['Date'], [i[:2] for i in globalmap_new.columns[1:]]])\n",
    "globalmap_new.columns = np.concatenate([['Date'], [i[:2] for i in globalmap_new.columns[1:]]])\n",
    "\n",
    "[[i,j] for i,j in zip(remapped,source)]\n",
    "# os.listdir('daynorm')\n",
    "# source"
   ]
  },
  {
   "cell_type": "code",
   "execution_count": 64,
   "metadata": {},
   "outputs": [],
   "source": [
    "for remap in remapped:\n",
    "    df = pd.read_excel('daynorm/'+remap)\n",
    "    for col in df.columns[1:]:\n",
    "        df[col] = (10**7)*(((df[col].values/100)*globalmap_old[remap[:2]].values)/globalmap_new[remap[:2]].values[:-4])\n",
    "    df.to_excel('daynorm/final/'+remap[:2]+'.xlsx')"
   ]
  },
  {
   "cell_type": "code",
   "execution_count": 65,
   "metadata": {},
   "outputs": [
    {
     "data": {
      "text/plain": [
       "nan"
      ]
     },
     "execution_count": 65,
     "metadata": {},
     "output_type": "execute_result"
    }
   ],
   "source": [
    "sum(df.iloc[1][1:])"
   ]
  },
  {
   "cell_type": "code",
   "execution_count": 22,
   "metadata": {},
   "outputs": [],
   "source": [
    "globalmap_old.columns = np.concatenate([['Date'], [i[:2] for i in globalmap_new.columns[1:]]])\n",
    "globalmap_new.columns = np.concatenate([['Date'], [i[:2] for i in globalmap_new.columns[1:]]])"
   ]
  },
  {
   "cell_type": "code",
   "execution_count": 24,
   "metadata": {},
   "outputs": [],
   "source": []
  },
  {
   "cell_type": "code",
   "execution_count": 25,
   "metadata": {},
   "outputs": [
    {
     "data": {
      "text/plain": [
       "array(['Date', 'fr', 'de', 'es', 'en', 'pl', 'sv', 'nl', 'ru', 'it', 'vi'],\n",
       "      dtype='<U4')"
      ]
     },
     "execution_count": 25,
     "metadata": {},
     "output_type": "execute_result"
    }
   ],
   "source": [
    "globalmap_old"
   ]
  },
  {
   "cell_type": "code",
   "execution_count": null,
   "metadata": {},
   "outputs": [],
   "source": []
  }
 ],
 "metadata": {
  "kernelspec": {
   "display_name": "Python 3",
   "language": "python",
   "name": "python3"
  },
  "language_info": {
   "codemirror_mode": {
    "name": "ipython",
    "version": 3
   },
   "file_extension": ".py",
   "mimetype": "text/x-python",
   "name": "python",
   "nbconvert_exporter": "python",
   "pygments_lexer": "ipython3",
   "version": "3.7.7"
  }
 },
 "nbformat": 4,
 "nbformat_minor": 4
}
